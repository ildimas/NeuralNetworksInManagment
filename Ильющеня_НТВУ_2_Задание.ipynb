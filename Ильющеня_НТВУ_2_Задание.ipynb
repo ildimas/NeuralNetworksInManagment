{
  "cells": [
    {
      "cell_type": "markdown",
      "metadata": {
        "id": "view-in-github",
        "colab_type": "text"
      },
      "source": [
        "<a href=\"https://colab.research.google.com/github/ildimas/NeuralNetworksInManagment/blob/main/%D0%98%D0%BB%D1%8C%D1%8E%D1%89%D0%B5%D0%BD%D1%8F_%D0%9D%D0%A2%D0%92%D0%A3_2_%D0%97%D0%B0%D0%B4%D0%B0%D0%BD%D0%B8%D0%B5.ipynb\" target=\"_parent\"><img src=\"https://colab.research.google.com/assets/colab-badge.svg\" alt=\"Open In Colab\"/></a>"
      ]
    },
    {
      "cell_type": "markdown",
      "metadata": {
        "id": "O4RAgoGLFQWb"
      },
      "source": [
        " # NLP"
      ]
    },
    {
      "cell_type": "markdown",
      "metadata": {
        "id": "qU7d61ZQFQWc"
      },
      "source": [
        "## 1. Настройка и импорты"
      ]
    },
    {
      "cell_type": "code",
      "execution_count": null,
      "metadata": {
        "id": "Ek42Nb_xFQWc"
      },
      "outputs": [],
      "source": [
        "import numpy as np\n",
        "import pandas as pd\n",
        "import torch\n",
        "import torch.nn as nn\n",
        "import torch.optim as optim\n",
        "from torch.utils.data import Dataset, DataLoader\n",
        "from datasets import load_dataset\n",
        "from sklearn.model_selection import train_test_split\n",
        "from sklearn.feature_extraction.text import TfidfVectorizer, CountVectorizer\n",
        "from sklearn.linear_model import LogisticRegression\n",
        "from sklearn.svm import SVC\n",
        "from sklearn.metrics import accuracy_score, precision_recall_fscore_support, confusion_matrix\n",
        "import nltk\n",
        "from nltk.tokenize import word_tokenize\n",
        "from nltk.corpus import stopwords\n",
        "from nltk.stem import WordNetLemmatizer\n",
        "import gensim\n",
        "from gensim.models import Word2Vec\n",
        "import matplotlib.pyplot as plt\n",
        "import seaborn as sns\n",
        "from tqdm import tqdm\n",
        "import re\n",
        "import string\n",
        "\n",
        "nltk.download('punkt')\n",
        "nltk.download('stopwords')\n",
        "nltk.download('wordnet')\n",
        "device = torch.device('cuda' if torch.cuda.is_available() else 'cpu')"
      ]
    },
    {
      "cell_type": "markdown",
      "metadata": {
        "id": "mAUuSwvRFQWd"
      },
      "source": [
        "## 2. Загрузка и подготовка данных"
      ]
    },
    {
      "cell_type": "code",
      "execution_count": null,
      "metadata": {
        "id": "77mPDhivFQWd"
      },
      "outputs": [],
      "source": [
        "dataset = load_dataset('ag_news')\n",
        "train_data = dataset['train']\n",
        "test_data = dataset['test']\n",
        "\n",
        "train_texts, val_texts, train_labels, val_labels = train_test_split(\n",
        "    train_data['text'], train_data['label'], test_size=0.15, random_state=42\n",
        ")\n",
        "\n",
        "test_texts = test_data['text']\n",
        "test_labels = test_data['label']"
      ]
    },
    {
      "cell_type": "code",
      "execution_count": null,
      "metadata": {
        "id": "wnof4s75FQWd"
      },
      "outputs": [],
      "source": [
        "def preprocess_text(text, remove_stopwords=True):\n",
        "    text = text.lower()\n",
        "    text = re.sub(r'\\d+', '', text)\n",
        "    text = text.translate(str.maketrans('', '', string.punctuation))\n",
        "    tokens = word_tokenize(text)\n",
        "\n",
        "    if remove_stopwords:\n",
        "        stop_words = set(stopwords.words('english'))\n",
        "        tokens = [t for t in tokens if t not in stop_words]\n",
        "\n",
        "    lemmatizer = WordNetLemmatizer()\n",
        "    tokens = [lemmatizer.lemmatize(t) for t in tokens]\n",
        "\n",
        "    return ' '.join(tokens)\n",
        "\n",
        "train_texts_processed = [preprocess_text(text) for text in train_texts]\n",
        "val_texts_processed = [preprocess_text(text) for text in val_texts]\n",
        "test_texts_processed = [preprocess_text(text) for text in test_texts]"
      ]
    },
    {
      "cell_type": "markdown",
      "metadata": {
        "id": "oBCWVkhfFQWe"
      },
      "source": [
        "## 3. Имплементация модели"
      ]
    },
    {
      "cell_type": "code",
      "execution_count": null,
      "metadata": {
        "id": "t65OJNsbFQWe"
      },
      "outputs": [],
      "source": [
        "class TextDataset(Dataset):\n",
        "    def __init__(self, texts, labels, tokenizer, max_len=128):\n",
        "        self.texts = texts\n",
        "        self.labels = labels\n",
        "        self.tokenizer = tokenizer\n",
        "        self.max_len = max_len\n",
        "\n",
        "    def __len__(self):\n",
        "        return len(self.texts)\n",
        "\n",
        "    def __getitem__(self, idx):\n",
        "        text = self.texts[idx]\n",
        "        label = self.labels[idx]\n",
        "\n",
        "        encoding = self.tokenizer(\n",
        "            text,\n",
        "            max_length=self.max_len,\n",
        "            padding='max_length',\n",
        "            truncation=True,\n",
        "            return_tensors='pt'\n",
        "        )\n",
        "\n",
        "        return {\n",
        "            'input_ids': encoding['input_ids'].flatten(),\n",
        "            'attention_mask': encoding['attention_mask'].flatten(),\n",
        "            'label': torch.tensor(label, dtype=torch.long)\n",
        "        }"
      ]
    },
    {
      "cell_type": "code",
      "execution_count": null,
      "metadata": {
        "id": "lQOg47oyFQWf"
      },
      "outputs": [],
      "source": [
        "class TextCNN(nn.Module):\n",
        "    def __init__(self, vocab_size, embedding_dim, n_filters, filter_sizes, output_dim, dropout):\n",
        "        super().__init__()\n",
        "        self.embedding = nn.Embedding(vocab_size, embedding_dim)\n",
        "        self.convs = nn.ModuleList([\n",
        "            nn.Conv2d(in_channels=1, out_channels=n_filters, kernel_size=(fs, embedding_dim))\n",
        "            for fs in filter_sizes\n",
        "        ])\n",
        "        self.fc = nn.Linear(len(filter_sizes) * n_filters, output_dim)\n",
        "        self.dropout = nn.Dropout(dropout)\n",
        "\n",
        "    def forward(self, text):\n",
        "        embedded = self.embedding(text)\n",
        "        embedded = embedded.unsqueeze(1)\n",
        "\n",
        "        conved = [F.relu(conv(embedded)).squeeze(3) for conv in self.convs]\n",
        "        pooled = [F.max_pool1d(conv, conv.shape[2]).squeeze(2) for conv in conved]\n",
        "\n",
        "        cat = self.dropout(torch.cat(pooled, dim=1))\n",
        "        return self.fc(cat)"
      ]
    },
    {
      "cell_type": "code",
      "execution_count": null,
      "metadata": {
        "id": "afJC2PRwFQWf"
      },
      "outputs": [],
      "source": [
        "class TextLSTM(nn.Module):\n",
        "    def __init__(self, vocab_size, embedding_dim, hidden_dim, output_dim, n_layers, bidirectional, dropout):\n",
        "        super().__init__()\n",
        "        self.embedding = nn.Embedding(vocab_size, embedding_dim)\n",
        "        self.lstm = nn.LSTM(embedding_dim, hidden_dim, num_layers=n_layers, bidirectional=bidirectional, dropout=dropout)\n",
        "        self.fc = nn.Linear(hidden_dim * 2 if bidirectional else hidden_dim, output_dim)\n",
        "        self.dropout = nn.Dropout(dropout)\n",
        "\n",
        "    def forward(self, text):\n",
        "        embedded = self.dropout(self.embedding(text))\n",
        "        output, (hidden, cell) = self.lstm(embedded)\n",
        "\n",
        "        if self.lstm.bidirectional:\n",
        "            hidden = torch.cat((hidden[-2,:,:], hidden[-1,:,:]), dim=1)\n",
        "        else:\n",
        "            hidden = hidden[-1,:,:]\n",
        "\n",
        "        return self.fc(self.dropout(hidden))"
      ]
    },
    {
      "cell_type": "code",
      "execution_count": null,
      "metadata": {
        "id": "SXmylCYQFQWf"
      },
      "outputs": [],
      "source": [
        "class EncoderDecoder(nn.Module):\n",
        "    def __init__(self, input_dim, hidden_dim, output_dim, n_layers, dropout):\n",
        "        super().__init__()\n",
        "        self.encoder = nn.LSTM(input_dim, hidden_dim, n_layers, dropout=dropout, bidirectional=True)\n",
        "        self.decoder = nn.LSTM(input_dim + hidden_dim * 2, hidden_dim, n_layers, dropout=dropout)\n",
        "        self.fc = nn.Linear(hidden_dim, output_dim)\n",
        "        self.dropout = nn.Dropout(dropout)\n",
        "\n",
        "    def forward(self, src, trg, teacher_forcing_ratio=0.5):\n",
        "        batch_size = src.shape[1]\n",
        "        trg_len = trg.shape[0]\n",
        "        trg_vocab_size = self.fc.out_features\n",
        "\n",
        "        outputs = torch.zeros(trg_len, batch_size, trg_vocab_size).to(device)\n",
        "\n",
        "        encoder_outputs, (hidden, cell) = self.encoder(src)\n",
        "\n",
        "        input = trg[0,:]\n",
        "\n",
        "        for t in range(1, trg_len):\n",
        "            output, (hidden, cell) = self.decoder(input, (hidden, cell))\n",
        "            output = self.fc(output)\n",
        "            outputs[t] = output\n",
        "\n",
        "            teacher_force = random.random() < teacher_forcing_ratio\n",
        "            top1 = output.argmax(1)\n",
        "            input = trg[t] if teacher_force else top1\n",
        "\n",
        "        return outputs"
      ]
    },
    {
      "cell_type": "markdown",
      "metadata": {
        "id": "abcrI7afFQWg"
      },
      "source": [
        "## 4. Тестирование и функции оценки"
      ]
    },
    {
      "cell_type": "code",
      "execution_count": null,
      "metadata": {
        "id": "Nk18B8qlFQWg"
      },
      "outputs": [],
      "source": [
        "def train_model(model, train_loader, optimizer, criterion, device):\n",
        "    model.train()\n",
        "    total_loss = 0\n",
        "\n",
        "    for batch in train_loader:\n",
        "        optimizer.zero_grad()\n",
        "        input_ids = batch['input_ids'].to(device)\n",
        "        attention_mask = batch['attention_mask'].to(device)\n",
        "        labels = batch['label'].to(device)\n",
        "\n",
        "        outputs = model(input_ids, attention_mask=attention_mask)\n",
        "        loss = criterion(outputs, labels)\n",
        "\n",
        "        loss.backward()\n",
        "        optimizer.step()\n",
        "\n",
        "        total_loss += loss.item()\n",
        "\n",
        "    return total_loss / len(train_loader)"
      ]
    },
    {
      "cell_type": "code",
      "execution_count": null,
      "metadata": {
        "id": "BUR5qIwUFQWg"
      },
      "outputs": [],
      "source": [
        "def evaluate_model(model, val_loader, criterion, device):\n",
        "    model.eval()\n",
        "    total_loss = 0\n",
        "    predictions = []\n",
        "    true_labels = []\n",
        "\n",
        "    with torch.no_grad():\n",
        "        for batch in val_loader:\n",
        "            input_ids = batch['input_ids'].to(device)\n",
        "            attention_mask = batch['attention_mask'].to(device)\n",
        "            labels = batch['label'].to(device)\n",
        "\n",
        "            outputs = model(input_ids, attention_mask=attention_mask)\n",
        "            loss = criterion(outputs, labels)\n",
        "\n",
        "            total_loss += loss.item()\n",
        "            predictions.extend(outputs.argmax(dim=1).cpu().numpy())\n",
        "            true_labels.extend(labels.cpu().numpy())\n",
        "\n",
        "    return total_loss / len(val_loader), accuracy_score(true_labels, predictions)"
      ]
    },
    {
      "cell_type": "code",
      "execution_count": null,
      "metadata": {
        "id": "1EUcgD9vFQWg"
      },
      "outputs": [],
      "source": [
        "def plot_metrics(train_losses, val_losses, train_accs, val_accs):\n",
        "    fig, (ax1, ax2) = plt.subplots(1, 2, figsize=(15, 5))\n",
        "\n",
        "    ax1.plot(train_losses, label='Train Loss')\n",
        "    ax1.plot(val_losses, label='Validation Loss')\n",
        "    ax1.set_title('Loss Curves')\n",
        "    ax1.set_xlabel('Epoch')\n",
        "    ax1.set_ylabel('Loss')\n",
        "    ax1.legend()\n",
        "\n",
        "    ax2.plot(train_accs, label='Train Accuracy')\n",
        "    ax2.plot(val_accs, label='Validation Accuracy')\n",
        "    ax2.set_title('Accuracy Curves')\n",
        "    ax2.set_xlabel('Epoch')\n",
        "    ax2.set_ylabel('Accuracy')\n",
        "    ax2.legend()\n",
        "\n",
        "    plt.tight_layout()\n",
        "    plt.show()"
      ]
    },
    {
      "cell_type": "code",
      "execution_count": null,
      "metadata": {
        "id": "V5nbGLJSFQWg"
      },
      "outputs": [],
      "source": [
        "def train_and_evaluate(model, train_loader, val_loader, optimizer, criterion, n_epochs, device):\n",
        "    train_losses = []\n",
        "    val_losses = []\n",
        "    train_accs = []\n",
        "    val_accs = []\n",
        "\n",
        "    for epoch in range(n_epochs):\n",
        "        train_loss = train_model(model, train_loader, optimizer, criterion, device)\n",
        "        val_loss, val_acc = evaluate_model(model, val_loader, criterion, device)\n",
        "\n",
        "        train_losses.append(train_loss)\n",
        "        val_losses.append(val_loss)\n",
        "        val_accs.append(val_acc)\n",
        "\n",
        "        print(f'Epoch {epoch+1}/{n_epochs}:')\n",
        "        print(f'Train Loss: {train_loss:.4f}')\n",
        "        print(f'Val Loss: {val_loss:.4f}, Val Accuracy: {val_acc:.4f}')\n",
        "\n",
        "    plot_metrics(train_losses, val_losses, train_accs, val_accs)\n",
        "    return model"
      ]
    },
    {
      "cell_type": "markdown",
      "metadata": {
        "id": "PnKVj-oFFQWg"
      },
      "source": [
        "## 5. Главный процесс"
      ]
    },
    {
      "cell_type": "code",
      "execution_count": null,
      "metadata": {
        "id": "hKEZBR5ZFQWg"
      },
      "outputs": [],
      "source": [
        "def main():\n",
        "    sentences = [text.split() for text in train_texts_processed]\n",
        "    word2vec_model = Word2Vec(sentences, vector_size=100, window=5, min_count=5, workers=4)\n",
        "\n",
        "    tfidf = TfidfVectorizer(max_features=10000)\n",
        "    count_vec = CountVectorizer(max_features=10000)\n",
        "\n",
        "    X_train_tfidf = tfidf.fit_transform(train_texts_processed)\n",
        "    X_val_tfidf = tfidf.transform(val_texts_processed)\n",
        "    X_test_tfidf = tfidf.transform(test_texts_processed)\n",
        "\n",
        "    X_train_count = count_vec.fit_transform(train_texts_processed)\n",
        "    X_val_count = count_vec.transform(val_texts_processed)\n",
        "    X_test_count = count_vec.transform(test_texts_processed)\n",
        "\n",
        "    lr_tfidf = LogisticRegression(max_iter=1000)\n",
        "    lr_tfidf.fit(X_train_tfidf, train_labels)\n",
        "\n",
        "    svm_tfidf = SVC(kernel='linear')\n",
        "    svm_tfidf.fit(X_train_tfidf, train_labels)\n",
        "\n",
        "    cnn_model = TextCNN(\n",
        "        vocab_size=10000,\n",
        "        embedding_dim=100,\n",
        "        n_filters=100,\n",
        "        filter_sizes=[3, 4, 5],\n",
        "        output_dim=4,\n",
        "        dropout=0.5\n",
        "    ).to(device)\n",
        "\n",
        "    lstm_model = TextLSTM(\n",
        "        vocab_size=10000,\n",
        "        embedding_dim=100,\n",
        "        hidden_dim=256,\n",
        "        output_dim=4,\n",
        "        n_layers=2,\n",
        "        bidirectional=True,\n",
        "        dropout=0.5\n",
        "    ).to(device)\n",
        "\n",
        "    cnn_optimizer = optim.Adam(cnn_model.parameters())\n",
        "    cnn_criterion = nn.CrossEntropyLoss()\n",
        "    cnn_model = train_and_evaluate(cnn_model, train_loader, val_loader, cnn_optimizer, cnn_criterion, n_epochs=10, device=device)\n",
        "\n",
        "    lstm_optimizer = optim.Adam(lstm_model.parameters())\n",
        "    lstm_criterion = nn.CrossEntropyLoss()\n",
        "    lstm_model = train_and_evaluate(lstm_model, train_loader, val_loader, lstm_optimizer, lstm_criterion, n_epochs=10, device=device)\n",
        "\n",
        "    lr_pred = lr_tfidf.predict(X_test_tfidf)\n",
        "    svm_pred = svm_tfidf.predict(X_test_tfidf)\n",
        "\n",
        "    cnn_pred = evaluate_model(cnn_model, test_loader, cnn_criterion, device)[1]\n",
        "    lstm_pred = evaluate_model(lstm_model, test_loader, lstm_criterion, device)[1]\n",
        "\n",
        "    print(\"\\nResults:\")\n",
        "    print(f\"Logistic Regression Accuracy: {accuracy_score(test_labels, lr_pred):.4f}\")\n",
        "    print(f\"SVM Accuracy: {accuracy_score(test_labels, svm_pred):.4f}\")\n",
        "    print(f\"CNN Accuracy: {cnn_pred:.4f}\")\n",
        "    print(f\"LSTM Accuracy: {lstm_pred:.4f}\")\n",
        "\n",
        "if __name__ == \"__main__\":\n",
        "    main()"
      ]
    }
  ],
  "metadata": {
    "kernelspec": {
      "display_name": "Python 3",
      "language": "python",
      "name": "python3"
    },
    "language_info": {
      "codemirror_mode": {
        "name": "ipython",
        "version": 3
      },
      "file_extension": ".py",
      "mimetype": "text/x-python",
      "name": "python",
      "nbconvert_exporter": "python",
      "pygments_lexer": "ipython3",
      "version": "3.8.0"
    },
    "colab": {
      "provenance": [],
      "include_colab_link": true
    }
  },
  "nbformat": 4,
  "nbformat_minor": 0
}